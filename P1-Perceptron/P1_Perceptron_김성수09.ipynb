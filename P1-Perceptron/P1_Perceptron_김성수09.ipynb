{
  "nbformat": 4,
  "nbformat_minor": 0,
  "metadata": {
    "kernelspec": {
      "display_name": "Python 3",
      "language": "python",
      "name": "python3"
    },
    "language_info": {
      "codemirror_mode": {
        "name": "ipython",
        "version": 3
      },
      "file_extension": ".py",
      "mimetype": "text/x-python",
      "name": "python",
      "nbconvert_exporter": "python",
      "pygments_lexer": "ipython3",
      "version": "3.8.3"
    },
    "colab": {
      "name": "P1-Perceptron_김성수09.ipynb",
      "provenance": [],
      "collapsed_sections": []
    }
  },
  "cells": [
    {
      "cell_type": "markdown",
      "metadata": {
        "id": "PeAb2SLgc72A"
      },
      "source": [
        "# [SWCON253] Machine Learning\n",
        "Teaching Assistant: Hyunmin Ban (hmban1996@khu.ac.kr)\n",
        "\n",
        "Professor: Hui Yong Kim (hykim.v@khu.ac.kr)"
      ]
    },
    {
      "cell_type": "markdown",
      "metadata": {
        "id": "nnPh63wKc72B"
      },
      "source": [
        "---"
      ]
    },
    {
      "cell_type": "markdown",
      "metadata": {
        "id": "F-Chq0tEc72C"
      },
      "source": [
        "# P1:  Pure Python만을 이용하여 Perceptron 구현 (10점)\n",
        "\n",
        "### 학습목표\n",
        "- Perceptron Python class를 직접 구현하면서 NN의 작동방법을 이해한다.\n",
        "- 머신러닝 모델의 데이터 준비, 개발, 학습, 검증, 시각화 과정을 이해하고 설명 할 수 있다.\n",
        "\n",
        "### 실습내용\n",
        "Frank Rosenblatt의 classic perceptron binary classication(0 또는 1을 구분하는)을 구현합니다. <br>\n",
        "여러분은 \"Pure\" 혹은 \"vanilla\" Python 함수만을 사용하여 구현해야합니다. 그러므로 시각화를 위한 matplotlib 이외의 패키지는 사용하지마세요.\n",
        "\n",
        "실습은 다음 순서로 진행됩니다.\n",
        "- 0) 실습에서 사용되는 패키지 import\n",
        "- 1) 주어진 데이터셋 loading\n",
        "- 2) Perceptron Model 구현 **<직접 구현>**\n",
        "- 3) Perceptron Model 학습\n",
        "- 4) Perceptron Model 검증\n",
        "- 5) Decision Boundary 시각화\n",
        "- 6) Discussion\n",
        "\n",
        "**이번 실습에서 여러분은 `2) Perceptron Model 구현` 부분의 코드를 직접 작성합니다.**\n",
        "\n",
        "앞으로 대부분의 실습도 위와 같은 순서로 진행됩니다. 이번 실습을 통해 각 부분의 코드를 이해하고 다음 실습에 참고하도록합니다.\n",
        "\n",
        "\n",
        "### 점수\n",
        "- Perceptron model 구현: 각 함수별로 2점\n",
        "\n",
        "\n",
        "### 제출방법\n",
        "- .ipynb 파일과 함께 .html 파일 (File -> export as -> HTML)도 함께 제출하세요. 하나만 제출할시 감점이 있습니다."
      ]
    },
    {
      "cell_type": "markdown",
      "metadata": {
        "id": "rnCSPxHYc72C"
      },
      "source": [
        "## 0) Imports\n",
        "**수정하지 마세요.** HW1에서는 \"pure\" python으로만 코드를 작성합니다. `matplotlib`이외의 패키지는 사용하지 않습니다."
      ]
    },
    {
      "cell_type": "code",
      "metadata": {
        "id": "g4yCMkBzc72D"
      },
      "source": [
        "import matplotlib.pyplot as plt\n",
        "%matplotlib inline"
      ],
      "execution_count": 1,
      "outputs": []
    },
    {
      "cell_type": "code",
      "metadata": {
        "colab": {
          "base_uri": "https://localhost:8080/"
        },
        "id": "k8x2AGtsdWZK",
        "outputId": "52571545-48d6-4009-8cd2-03b3f643934d"
      },
      "source": [
        "from google.colab import drive\n",
        "drive.mount('/content/drive')"
      ],
      "execution_count": 7,
      "outputs": [
        {
          "output_type": "stream",
          "name": "stdout",
          "text": [
            "Mounted at /content/drive\n"
          ]
        }
      ]
    },
    {
      "cell_type": "markdown",
      "metadata": {
        "id": "yylT3ocHc72D"
      },
      "source": [
        "## 1) Loading the Dataset\n",
        "**수정하지 마세요.** 코드를 실행시켜 실습코드와 같이 첨부된 dataset.csv파일을 로드합니다."
      ]
    },
    {
      "cell_type": "code",
      "metadata": {
        "colab": {
          "base_uri": "https://localhost:8080/"
        },
        "id": "l4v4IY5udwAk",
        "outputId": "41782bf4-0c8f-4c02-8c2c-3b303225f8d0"
      },
      "source": [
        "cd /content/drive/MyDrive/ML/P1-Perceptron/"
      ],
      "execution_count": 11,
      "outputs": [
        {
          "output_type": "stream",
          "name": "stdout",
          "text": [
            "/content/drive/MyDrive/ML/P1-Perceptron\n"
          ]
        }
      ]
    },
    {
      "cell_type": "code",
      "metadata": {
        "colab": {
          "base_uri": "https://localhost:8080/"
        },
        "id": "eXe4fgwxc72E",
        "outputId": "b9524b23-abe8-4d55-e6b3-90d7a9aa0ffb"
      },
      "source": [
        "# CSV 파일을 읽기\n",
        "X, y = [], []\n",
        "\n",
        "with open('./dataset.csv', 'r') as f:\n",
        "    next(f)\n",
        "    for line in f:\n",
        "        line = line.strip()\n",
        "        if line:\n",
        "            values = line.split(',')\n",
        "        else:\n",
        "            continue\n",
        "        X.append([float(i) for i in values[:2]])\n",
        "        y.append(int(values[-1]))\n",
        "        \n",
        "print(len(X), len(y))"
      ],
      "execution_count": 12,
      "outputs": [
        {
          "output_type": "stream",
          "name": "stdout",
          "text": [
            "100 100\n"
          ]
        }
      ]
    },
    {
      "cell_type": "markdown",
      "metadata": {
        "id": "lwnpEerfc72F"
      },
      "source": [
        "### Dataset Split & Visualization\n",
        "Load 된 데이터셋을 모델 학습과 검증을 위해 Trainset과 Testset으로 랜덤 샘플링하여 나누고 데이터셋이 어떤 분포로 생겼는지 시각화하여 살펴봅니다."
      ]
    },
    {
      "cell_type": "code",
      "metadata": {
        "id": "v-Sh3BZsc72F"
      },
      "source": [
        "import random\n",
        "\n",
        "\n",
        "# 랜덤시드 설정\n",
        "random.seed(123)\n",
        "\n",
        "# 데이터 랜덤 셔플\n",
        "idx = list(range(len(X)))\n",
        "random.shuffle(idx)\n",
        "\n",
        "# 앞 80개 까지는 학습용으로 뒤 20개는 테스트용으로 split\n",
        "X_train = [X[i] for i in idx[:80]]\n",
        "y_train = [y[i] for i in idx[:80]]\n",
        "X_test = [X[i] for i in idx[80:]]\n",
        "y_test = [y[i] for i in idx[80:]]"
      ],
      "execution_count": 13,
      "outputs": []
    },
    {
      "cell_type": "code",
      "metadata": {
        "colab": {
          "base_uri": "https://localhost:8080/",
          "height": 295
        },
        "id": "p2DxvhgBc72G",
        "outputId": "88177b07-7d4a-46b7-8c4d-519266260816"
      },
      "source": [
        "# 클래스 별로 데이터를 시각화 하여 분포를 살펴보기\n",
        "plt.scatter([i[0] for idx, i in enumerate(X_train) if y_train[idx] == 0], \n",
        "            [i[1] for idx, i in enumerate(X_train) if y_train[idx] == 0],\n",
        "            label='class 0', marker='o')\n",
        "\n",
        "plt.scatter([i[0] for idx, i in enumerate(X_train) if y_train[idx] == 1], \n",
        "            [i[1] for idx, i in enumerate(X_train) if y_train[idx] == 1],\n",
        "            label='class 1', marker='s')\n",
        "\n",
        "plt.title('Training set')\n",
        "plt.xlabel('feature 1')\n",
        "plt.ylabel('feature 2')\n",
        "plt.xlim([0.0, 7])\n",
        "plt.ylim([-0.8, 0.8])\n",
        "plt.legend()\n",
        "plt.show()"
      ],
      "execution_count": 14,
      "outputs": [
        {
          "output_type": "display_data",
          "data": {
            "image/png": "[encoded data removed]",
            "text/plain": [
              "<Figure size 432x288 with 1 Axes>"
            ]
          },
          "metadata": {
            "needs_background": "light"
          }
        }
      ]
    },
    {
      "cell_type": "markdown",
      "metadata": {
        "id": "lusIYY20c72G"
      },
      "source": [
        "## 2) Perceptron model 구현\n",
        "이 부분에서는 직접 `Perceptron model`을 구현해 봅니다.\n",
        "\n",
        "Perceptron model은 생성자, forward, backward, train, evaluation 다섯개 함수로 이루어져 있습니다.\n",
        "- `__init__` 생성자에서는 Perceptron의 weights와 bias를 초기화합니다.\n",
        "- `forward`에서는 input을 Perceptron의 가중치를 이용해서 예측을 수행합니다.\n",
        "- `backward`에서는 Perceptron의 가중치를 학습하기 위해 에러를 계산합니다.\n",
        "- `train`에서는 Perceptron을 학습하는 과정으로 `forward`와 `backward`를 차례로 반복하여 Perceptron의 가중치를 업데이트 합니다.\n",
        "- `evaluation`에서는 들어온 input data를 학습된 가중치를 이용하여 예측하고 결과를 반환합니다.\n",
        "\n",
        "아래 `# <your code>` 부분을 채워 넣어서 Perceptron class를 직접 작성하여 구현하세요.\n",
        "\n",
        "**세부 구현 사항:**\n",
        "- weights는 랜덤으로 초기화, bias는 0으로 초기화한다.\n",
        "- activation은 0.이상은 1., 이하는 0.으로 하도록한다.\n",
        "- 설명되지 않은 사항은 자유롭게 작성하고 주석으로 설명한다."
      ]
    },
    {
      "cell_type": "markdown",
      "metadata": {
        "id": "7M0ZEwlWc72H"
      },
      "source": [
        "#### Perceptron\n",
        "![Perceptron](https://www.researchgate.net/profile/Daniel-Alvarez-34/publication/315788933/figure/fig3/AS:479799241121795@1491404461957/Scheme-of-a-perceptron-A-nonlinear-activation-function-BULLET-is-applied-to-the.png)\n",
        "출처: https://www.researchgate.net/figure/Scheme-of-a-perceptron-A-nonlinear-activation-function-BULLET-is-applied-to-the_fig3_315788933"
      ]
    },
    {
      "cell_type": "code",
      "metadata": {
        "id": "yU47XzGoc72H"
      },
      "source": [
        "class Perceptron():\n",
        "    def __init__(self, num_features):\n",
        "        self.weights = [random.random() for i in range(num_features)]\n",
        "        self.bias = 0\n",
        "\n",
        "    def forward(self, x):\n",
        "        # 가중치 합 구하기\n",
        "        linear = 0.0\n",
        "        for i in range(len(self.weights)):\n",
        "          linear = linear + x[i] * self.weights[i]\n",
        "        linear = linear + self.bias        \n",
        "        # Activation에서 0 이상은 1, 이하는 0\n",
        "        return 1 if linear >= 0 else 0\n",
        "        \n",
        "    def backward(self, x, y):\n",
        "        # MSE를 이용하여 에러 계산\n",
        "        errors = (x - y) ** 2\n",
        "        return errors\n",
        "        \n",
        "    def train(self, x, y, epochs):\n",
        "        # epochs 만큼 학습\n",
        "        for e in range(epochs):\n",
        "            # 데이터 하나씩 학습\n",
        "            for i in range(len(y)):\n",
        "                forward = self.forward(x[i])              # x = Train Set\n",
        "                backward = self.backward(forward, y[i])   # y = Test Set\n",
        "                # 에러 검출 시 가중치 업데이트\n",
        "                if (backward == 1):\n",
        "                  for j in range(len(self.weights)):\n",
        "                    # Δloss/Δwi = Δloss/Δpredict * Δpredict/Δwi = 2 * (forward-y) * xi\n",
        "                    self.weights[j] = self.weights[j] - 2 * (forward-y[i])*float(x[i][j]) * 0.01\n",
        "                  # Δloss/Δbias = Δloss/Δpredict * Δpredict/Δbias = 2 * (forward-y) * 1\n",
        "                  self.bias = self.bias - 2 * (forward-y[i]) * 0.01\n",
        "                \n",
        "    def evaluate(self, x, y):\n",
        "        accuracy = 0\n",
        "        error = 0\n",
        "        for i in range(len(x)):\n",
        "          error = error + (self.forward(x[i]) - y[i]) ** 2\n",
        "        accuracy = 1 - error\n",
        "        return accuracy"
      ],
      "execution_count": 22,
      "outputs": []
    },
    {
      "cell_type": "markdown",
      "metadata": {
        "id": "ACeyD-sjc72H"
      },
      "source": [
        "## 3) Perceptron 학습\n",
        "\n",
        "작성한 Perceptron을 Trainset을 이용해 5 epoch 학습하고 학습된 weight, bias를 print합니다."
      ]
    },
    {
      "cell_type": "code",
      "metadata": {
        "colab": {
          "base_uri": "https://localhost:8080/"
        },
        "id": "dhC4GFMvc72I",
        "outputId": "a7f5debf-165d-4f38-97c8-49d35708d9eb"
      },
      "source": [
        "ppn = Perceptron(num_features=2)  # 위에서 구현한 Perceptron 모델 정의\n",
        "ppn.train(X_train, y_train, 5)    # 5 epoch 학습\n",
        "\n",
        "# 학습된 모델의 weight, bias 출력\n",
        "print(ppn.weights)\n",
        "print(ppn.bias)"
      ],
      "execution_count": 23,
      "outputs": [
        {
          "output_type": "stream",
          "name": "stdout",
          "text": [
            "[0.13981148264314666, 0.04758973057390496]\n",
            "-0.3\n"
          ]
        }
      ]
    },
    {
      "cell_type": "markdown",
      "metadata": {
        "id": "dPnwxI0fc72I"
      },
      "source": [
        "## 4) 모델 평가\n",
        "Training set과 Test set각각에서 모델의 accuracy를 계산합니다."
      ]
    },
    {
      "cell_type": "code",
      "metadata": {
        "colab": {
          "base_uri": "https://localhost:8080/"
        },
        "id": "ZMPiT49Pc72I",
        "outputId": "7237d306-3740-483f-c618-6ada7edfc59f"
      },
      "source": [
        "# Train dataset에서 성능 평가\n",
        "train_acc = ppn.evaluate(X_train, y_train)\n",
        "print('Train set accuracy: %.2f%%' % (train_acc*100))"
      ],
      "execution_count": 24,
      "outputs": [
        {
          "output_type": "stream",
          "name": "stdout",
          "text": [
            "Train set accuracy: 100.00%\n"
          ]
        }
      ]
    },
    {
      "cell_type": "code",
      "metadata": {
        "colab": {
          "base_uri": "https://localhost:8080/"
        },
        "id": "OKfzdn8jc72I",
        "outputId": "2be2bfde-69a7-4966-ba02-40eb0048d0a5"
      },
      "source": [
        "# Test dataset에서 성능 평가\n",
        "test_acc = ppn.evaluate(X_test, y_test)\n",
        "print('Test set accuracy: %.2f%%' % (test_acc*100))"
      ],
      "execution_count": 25,
      "outputs": [
        {
          "output_type": "stream",
          "name": "stdout",
          "text": [
            "Test set accuracy: 100.00%\n"
          ]
        }
      ]
    },
    {
      "cell_type": "markdown",
      "metadata": {
        "id": "gAihrza3c72I"
      },
      "source": [
        "## 5) Decision Boundary\n",
        "train 데이터셋과 test 데이터셋 각각을 이용하여 2개의 scatter plot을 그리고 그 위에 학습된 가중치를 이용하여 결정경계를 시각화합니다."
      ]
    },
    {
      "cell_type": "code",
      "metadata": {
        "colab": {
          "base_uri": "https://localhost:8080/",
          "height": 573
        },
        "id": "ch9HBLVwc72J",
        "outputId": "3eb0e705-1b41-47cd-d422-209c9fe12d99"
      },
      "source": [
        "### Train 데이터셋에서 Decision Boundary 시각화\n",
        "# 그래프로 표현\n",
        "plt.scatter([i[0] for idx, i in enumerate(X_train) if y_train[idx] == 0], \n",
        "            [i[1] for idx, i in enumerate(X_train) if y_train[idx] == 0],\n",
        "            label='class 0', marker='o')\n",
        "plt.scatter([i[0] for idx, i in enumerate(X_train) if y_train[idx] == 1], \n",
        "            [i[1] for idx, i in enumerate(X_train) if y_train[idx] == 1],\n",
        "            label='class 1', marker='s')\n",
        "# Perscptron의 Weight와 Bias를 그래프로 표현\n",
        "plt.plot([0, 7], [-ppn.bias/ppn.weights[1], -(7*ppn.weights[0] + ppn.bias)/ppn.weights[1]])\n",
        "\n",
        "# 그래프로 표현\n",
        "plt.title('Training set')\n",
        "plt.xlabel('feature 1')\n",
        "plt.ylabel('feature 2')\n",
        "plt.xlim([0.0, 7])\n",
        "plt.ylim([-0.8, 0.8])\n",
        "plt.legend()\n",
        "plt.show()\n",
        "\n",
        "### Test 데이터셋에서 Decision Boundary 시각화\n",
        "# 그래프로 표현\n",
        "plt.scatter([i[0] for idx, i in enumerate(X_test) if y_test[idx] == 0], \n",
        "            [i[1] for idx, i in enumerate(X_test) if y_test[idx] == 0],\n",
        "            label='class 0', marker='o')\n",
        "\n",
        "plt.scatter([i[0] for idx, i in enumerate(X_test) if y_test[idx] == 1], \n",
        "            [i[1] for idx, i in enumerate(X_test) if y_test[idx] == 1],\n",
        "            label='class 1', marker='s')\n",
        "# Perscptron의 Weight와 Bias를 그래프로 표현\n",
        "plt.plot([0, 7], [-ppn.bias/ppn.weights[1], -(7*ppn.weights[0] + ppn.bias)/ppn.weights[1]])\n",
        "\n",
        "# 그래프로 표현\n",
        "plt.title('Test set')\n",
        "plt.xlabel('feature 1')\n",
        "plt.ylabel('feature 2')\n",
        "plt.xlim([0.0, 7])\n",
        "plt.ylim([-0.8, 0.8])\n",
        "plt.legend()\n",
        "plt.show()"
      ],
      "execution_count": 26,
      "outputs": [
        {
          "output_type": "display_data",
          "data": {
            "image/png": "[encoded data removed]",
            "text/plain": [
              "<Figure size 432x288 with 1 Axes>"
            ]
          },
          "metadata": {
            "needs_background": "light"
          }
        },
        {
          "output_type": "display_data",
          "data": {
            "image/png": "[encoded data removed]",
            "text/plain": [
              "<Figure size 432x288 with 1 Axes>"
            ]
          },
          "metadata": {
            "needs_background": "light"
          }
        }
      ]
    },
    {
      "cell_type": "markdown",
      "metadata": {
        "id": "yMuVgLIHc72J"
      },
      "source": [
        "## 6) Discussion\n",
        "\n",
        "**1) 예시에서 사용된 activation 함수 이외의 어떤 함수가 있는지 찾아보고 설명해보세요.**"
      ]
    },
    {
      "cell_type": "markdown",
      "metadata": {
        "id": "4e-bsWpRc72J"
      },
      "source": [
        "Sigmoid: 꼬임 없이 S자로 보이는 매끄러운 비선형 함수입니다. 출력의 확률을 예측할 수 있으며, 확률이 0에서 1까지이므로 값은 0과 1사이에서 분포합니다. 실습에서 사용한 Threshold Function과는 달리 미분이 가능하다는 특징이 있습니다.\n",
        "\n",
        "Softmax: 각 Class의 총합이 1이 되어야 하며, 이는 확률 100%를 뜻합니다. 다른 Class에서의 확률이 증가하면 또 다른 Class의 확률도 감소하므로, 가장 높은 확률의 Class는 최종 결과 Class입니다.\n",
        "\n",
        "Hyperbolic Tanh: Sigmoid와 유사하지만, Gradient Descent 과정에서 + 기울기와 - 기울기로 나뉘는데, Sigmoid에 비해 상대적으로 기울기 값이 강하다는 특징이 있습니다."
      ]
    },
    {
      "cell_type": "markdown",
      "metadata": {
        "id": "V-4QKPFlc72J"
      },
      "source": [
        "**2) 단층 Perceptron 으로 풀 수 없는 문제는 어떤것이 있는지 왜 그런지 설명해보세요.**"
      ]
    },
    {
      "cell_type": "markdown",
      "metadata": {
        "id": "2L_70e7Yc72J"
      },
      "source": [
        "대표적인 예시로 XOR 문제가 있습니다. XOR 문제(0: {0, 0}, {1, 1}, 1: {0, 1}, {1, 0})에서 0의 출력을 가지는 경우와, 1의 출력을 가지는 경우를 분류하기 위해서는 곡선을 그리거나, 2개의 직선을 그려야 합니다. 그러므로 단층 퍼셉트론으로 해결하지 못합니다."
      ]
    },
    {
      "cell_type": "markdown",
      "metadata": {
        "id": "-u4k2a1rc72K"
      },
      "source": [
        "**3) 구현하면서 든 질문에 대해 적고 답할 수 있다면 스스로 답해보세요.**"
      ]
    },
    {
      "cell_type": "markdown",
      "metadata": {
        "id": "rP3mANVCc72K"
      },
      "source": [
        "weight와 bias가 어떤 관계가 있는지 궁금하여 자료를 찾아봤습니다. 다층 perceptron의 경우에서, weight는 어떤 feature에 가중치를 많이 주어야 output을 올바르게 산출하는지에 대한 역할을 하고, bias는 추가 파라미터로서 입력에 weight가 적용된 합계인 Σxiwi와 함께 출력을 조정하는데 사용됩니다. 즉 weight 값을 증가시키면 학습의 기울기가 증가하고, activation function에서 가장 최적의 경우를 찾기 위해 bias 값을 조정합니다. 최종적으로 출력 결과에 대한 식은 다음과 같이 정의할 수 있습니다. output = sum (weights * inputs) + bias"
      ]
    },
    {
      "cell_type": "markdown",
      "metadata": {
        "id": "bu8H7Z1lc72K"
      },
      "source": [
        "---"
      ]
    }
  ]
}